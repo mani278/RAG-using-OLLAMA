{
 "cells": [
  {
   "cell_type": "code",
   "execution_count": 1,
   "metadata": {},
   "outputs": [],
   "source": [
    "# Loading required libraries\n",
    "import os\n",
    "\n",
    "from langchain.text_splitter import RecursiveCharacterTextSplitter\n",
    "from langchain_community.document_loaders import PyPDFLoader\n",
    "from langchain_community.vectorstores import faiss\n",
    "from langchain.chains import RetrievalQA\n",
    "from langchain.memory import ConversationSummaryMemory\n",
    "from langchain.prompts import PromptTemplate\n",
    "from langchain.llms import Ollama\n",
    "from langchain_community.embeddings import HuggingFaceEmbeddings"
   ]
  },
  {
   "cell_type": "code",
   "execution_count": 2,
   "metadata": {},
   "outputs": [],
   "source": [
    "data_path = \"bs202223.pdf\"\n",
    "text_splitter = RecursiveCharacterTextSplitter(\n",
    "    chunk_size=1000,\n",
    "    chunk_overlap=200,\n",
    "    length_function=len,)"
   ]
  },
  {
   "cell_type": "code",
   "execution_count": 3,
   "metadata": {},
   "outputs": [],
   "source": [
    "documents = PyPDFLoader(data_path).load_and_split(text_splitter=text_splitter)"
   ]
  },
  {
   "cell_type": "code",
   "execution_count": 4,
   "metadata": {},
   "outputs": [
    {
     "name": "stderr",
     "output_type": "stream",
     "text": [
      "d:\\MANI\\3.STUDY\\OLLAMA\\rag-llama-git\\Lib\\site-packages\\tqdm\\auto.py:21: TqdmWarning: IProgress not found. Please update jupyter and ipywidgets. See https://ipywidgets.readthedocs.io/en/stable/user_install.html\n",
      "  from .autonotebook import tqdm as notebook_tqdm\n"
     ]
    }
   ],
   "source": [
    "embed_model = HuggingFaceEmbeddings()"
   ]
  },
  {
   "cell_type": "code",
   "execution_count": 5,
   "metadata": {},
   "outputs": [],
   "source": [
    "vectordb = faiss.FAISS.from_documents(documents, embedding=embed_model)"
   ]
  },
  {
   "cell_type": "code",
   "execution_count": 17,
   "metadata": {},
   "outputs": [],
   "source": [
    "template = \"\"\"<s>[INST] Given the context - {context}. Don't go out of the context.</s>[INST] [INST] Answer the following question - {question}[/INST]\"\"\"\n",
    "pt = PromptTemplate(\n",
    "            template=template, input_variables=[\"context\", \"question\"]\n",
    "        )"
   ]
  },
  {
   "cell_type": "code",
   "execution_count": 18,
   "metadata": {},
   "outputs": [],
   "source": [
    "llm = Ollama(model='gemma:2b')"
   ]
  },
  {
   "cell_type": "code",
   "execution_count": 19,
   "metadata": {},
   "outputs": [],
   "source": [
    "rag = RetrievalQA.from_chain_type(\n",
    "            llm=llm,\n",
    "            retriever=vectordb.as_retriever(),\n",
    "            memory=ConversationSummaryMemory(llm = llm),\n",
    "            chain_type_kwargs={\"prompt\": pt, \"verbose\": True},\n",
    "        )"
   ]
  },
  {
   "cell_type": "code",
   "execution_count": 20,
   "metadata": {},
   "outputs": [
    {
     "name": "stdout",
     "output_type": "stream",
     "text": [
      "\n",
      "\n",
      "\u001b[1m> Entering new StuffDocumentsChain chain...\u001b[0m\n",
      "\n",
      "\n",
      "\u001b[1m> Entering new LLMChain chain...\u001b[0m\n",
      "Prompt after formatting:\n",
      "\u001b[32;1m\u001b[1;3m<s>[INST] Given the context - GOVERNMENT OF INDIA\n",
      "BUDGET 2022-2023\n",
      "SPEECH\n",
      "OF\n",
      "NIRMALA SITHARAMAN\n",
      "MINISTER OF FINANCE\n",
      "February 1,  2022\n",
      "\n",
      "GOVERNMENT OF INDIA\n",
      "BUDGET 2022-2023\n",
      "SPEECH\n",
      "OF\n",
      "NIRMALA SITHARAMAN\n",
      "MINISTER OF FINANCE\n",
      "February 1,  2022\n",
      "\n",
      "Budget 2022 -2023 \n",
      " \n",
      "Speech of  \n",
      "Nirmala Sitharaman  \n",
      "Minister of Finance  \n",
      "Febru ary 1, 202 2 \n",
      "Hon’ble Speaker,  \n",
      "I present the  Budget for the year 202 2-23.   \n",
      "Introduction \n",
      "1. At the outset, I want to take a moment to express my empathy for \n",
      "those who had to bear adverse health and economic effects of the \n",
      "pandemic.  \n",
      "2. The overall, sharp rebound and recovery of the economy  is reflective \n",
      "of our country’s strong resilience. India’s ec onomic growth in the current \n",
      "year is estimated to be 9.2 per cent, highest among all large economies.  \n",
      "3. I recognise we are in the midst of an Omicron wave, with high \n",
      "incidence, but milder symptoms. Further, the speed and coverage of our \n",
      "vaccination campaign  has helped greatly. With the accelerated \n",
      "improvement of health infrastructure in the past two years, we are in a \n",
      "strong position to withstand challenges.  I am confident that with Sabka \n",
      "Prayas we will continue our journey of strong growth.\n",
      "\n",
      "3 \n",
      " \n",
      " \n",
      " 12. The National Bank for Financing Infrastructure  and Development \n",
      "(NaBFID) and National Asset Reconstruction Company have commenced \n",
      "their activities.    \n",
      "13. Hon'ble Speaker sir, Budget 2021 -22 had provided a sha rp increase \n",
      "in provision for public investment or capital expenditure. Throughout the \n",
      "year, with the Hon 'ble Prime Minister, guiding the implementation, our \n",
      "economic recovery is continuing to benefit from the multiplier effect.  \n",
      "14. This Budget continues to provide impetus for growth. It lays a \n",
      "parallel track of (1) a blueprint for the Amrit Kaal , which is futuristic and \n",
      "inclusive. This will directly benefit our youth, women, farmers, the \n",
      "Scheduled Castes and the Scheduled Tribes. And  (2) big public investment \n",
      "for modern infrastructure, readying for India at 100. This shall be guided by \n",
      "PM GatiShakti and be benefited by the synergy of multi -modal approach. \n",
      "Moving forward, on this parallel track, we lay the following four priorities:. Don't go out of the context.</s>[INST] [INST] Answer the following question - Who is the finance minister?[/INST]\u001b[0m\n",
      "\n",
      "\u001b[1m> Finished chain.\u001b[0m\n",
      "\n",
      "\u001b[1m> Finished chain.\u001b[0m\n"
     ]
    }
   ],
   "source": [
    "response = rag.invoke('Who is the finance minister?')"
   ]
  },
  {
   "cell_type": "code",
   "execution_count": 21,
   "metadata": {},
   "outputs": [
    {
     "name": "stdout",
     "output_type": "stream",
     "text": [
      "The finance minister is Nirmala Sitharaman. He is the Minister of Finance of India.\n"
     ]
    }
   ],
   "source": [
    "print(response['result'])"
   ]
  },
  {
   "cell_type": "code",
   "execution_count": 22,
   "metadata": {},
   "outputs": [
    {
     "name": "stdout",
     "output_type": "stream",
     "text": [
      "\n",
      "\n",
      "\u001b[1m> Entering new StuffDocumentsChain chain...\u001b[0m\n",
      "\n",
      "\n",
      "\u001b[1m> Entering new LLMChain chain...\u001b[0m\n",
      "Prompt after formatting:\n",
      "\u001b[32;1m\u001b[1;3m<s>[INST] Given the context - 11 \n",
      " \n",
      " \n",
      " net banking, mobile banking, ATMs, and also provide online transfer of \n",
      "funds between post office accounts and bank accounts. This will be helpful, \n",
      "especially for farmers and senior citizens in rural areas, enabling inter -\n",
      "operability and financial inclusion.  \n",
      "Digital Banking  \n",
      "61. In recent years, digital banking, digital payments and fintech  \n",
      "innovations have grown at a rapid pace in the country. Government is \n",
      "continuously encouraging these sectors to ensure that the benefits of digital \n",
      "banking reach every nook and corner of the country in a consumer -friendly \n",
      "manner. Taking forward this agenda , and to mark 75 years of our \n",
      "independence, it is proposed to set up 75 Digital Banking Units (DBUs) in 75 \n",
      "districts of the country by Scheduled Commercial Banks.  \n",
      "Digital Payments  \n",
      "62. The financial support for digital payment ecosystem announced in \n",
      "the previ ous Budget will continue in 2022 -23. This will encourage further\n",
      "\n",
      "Digital Payments  \n",
      "62. The financial support for digital payment ecosystem announced in \n",
      "the previ ous Budget will continue in 2022 -23. This will encourage further \n",
      "adoption of digital payments. There will also be a focus to promote use of \n",
      "payment platforms that are economical and user friendly.  \n",
      "Productivity Enhancement & Investment, Sunrise Opportunitie s, Energy \n",
      "Transition, and Climate Action  \n",
      "Productivity Enhancement & Investment  \n",
      "Ease of Doing Business 2.0 & Ease of Living  \n",
      "63. In recent years, over 25,000 compliances were reduced and 1486 \n",
      "Union laws were repealed. This is the result of our government’s stron g \n",
      "commitment for ‘minimum government & maximum governance’, our trust \n",
      "in the public, and ease of doing business (EODB).  \n",
      "64. For the Amrit Kaal , the next phase of Ease of Doing Business EODB \n",
      "2.0 and Ease of Living, will be launched. In our endeavour to improve \n",
      "productive efficiency of capital and human resources, we will follow the\n",
      "\n",
      "Scheme for taxation of virtual digital assets  \n",
      "131. There has been a phenomenal increase in transactions in virtual \n",
      "digital assets.  The magnitude and frequency of these transactions have \n",
      "made it imperative to pr ovide for a specific tax regime.  Accordingly,  for the \n",
      "taxation of virtual digital assets, I propose to provide that any income from \n",
      "transfer of any virtual digital asset shall be taxed at the rate of 30  per cent . \n",
      " No deduction in respect of any expenditure  or allowance shall be \n",
      "allowed while computing such income except cost of acquisition. \n",
      "Further, loss from transfer of virtual digital asset cannot be set \n",
      "off against any other income.  \n",
      " Further, in order to capture the transaction details, I also \n",
      "propose to provide for TDS on payment made in relation to\n",
      "\n",
      "for encouraging settlement of disputes through conciliation.  \n",
      "79. As a further step to enhance transparency and to reduce delays in \n",
      "payments, a completely paperless, end -to-end online e -Bill System will be \n",
      "launched for use by all central ministries for their procurements. The \n",
      "system will enable the suppliers and contractors to submit online their \n",
      "digitally signed bills and claims and track their status from anywhere.  \n",
      "80. To reduce indirect cost for suppliers and work -contractors, the use \n",
      "of surety bonds as a substitute for bank guarantee will be made acceptable \n",
      "in government procurements. Business such as gold imports may also find \n",
      "this useful. IRDAI has given the framework f or issue of surety bonds by \n",
      "insurance companies.  \n",
      "AVGC Promotion Task Force  \n",
      "81. The animation, visual effects, gaming, and comic (AVGC) sector \n",
      "offers immense potential to employ youth. An AVGC promotion task force \n",
      "with all stakeholders will be set -up to recomm end ways to realize this and. Don't go out of the context.</s>[INST] [INST] Answer the following question - What about digital payments?[/INST]\u001b[0m\n",
      "\n",
      "\u001b[1m> Finished chain.\u001b[0m\n",
      "\n",
      "\u001b[1m> Finished chain.\u001b[0m\n"
     ]
    }
   ],
   "source": [
    "response = rag.invoke('What about digital payments?')"
   ]
  },
  {
   "cell_type": "code",
   "execution_count": 23,
   "metadata": {},
   "outputs": [
    {
     "name": "stdout",
     "output_type": "stream",
     "text": [
      "The passage mentions that the financial support for digital payment ecosystem announced in the previ ous Budget will continue in 2022 -23. This will encourage further adoption of digital payments. There will also be a focus to promote use of payment platforms that are economical and user friendly.\n"
     ]
    }
   ],
   "source": [
    "print(response['result'])"
   ]
  },
  {
   "cell_type": "code",
   "execution_count": 24,
   "metadata": {},
   "outputs": [
    {
     "name": "stdout",
     "output_type": "stream",
     "text": [
      "\n",
      "\n",
      "\u001b[1m> Entering new StuffDocumentsChain chain...\u001b[0m\n",
      "\n",
      "\n",
      "\u001b[1m> Entering new LLMChain chain...\u001b[0m\n",
      "Prompt after formatting:\n",
      "\u001b[32;1m\u001b[1;3m<s>[INST] Given the context - Promotion Council  --- 8000.00  --- 15000.00  10000.00  ---   \n",
      "3 Department of Fertilizers        NIL NIL \n",
      " Metals & Minerals Trading \n",
      "Corporation  --- --- --- 1310.00   ---   \n",
      "4 Support to other public agencies  \n",
      "(to meet requirement for additional \n",
      "resources, if any, under some specific \n",
      "scheme/project)       30000.00    \n",
      "  Total  70000.00  73000.00  97000.00  126310.00  94636.00  30000.00    \n",
      " Grand Total (A+B)  79167.00  88095.00  162602.10  148316.30  121301.10  30000.00  751.80\n",
      "\n",
      "18 \n",
      " \n",
      " \n",
      " Effective Capital Expenditure  \n",
      "102. With th is investment taken together with the provision made for \n",
      "creation of capital assets through Grants -in-Aid to States, the ‘Effective \n",
      "Capital Expenditure’ of the Central Government is estimated at ` 10.68 lakh \n",
      "crore in  2022 -23, which will be about 4.1 per c ent of GDP.   \n",
      "Green Bonds  \n",
      "103. As a part of the government’s overall market borrowings in 2022 -23, \n",
      "sovereign Green Bonds will be issued for mobilizing resources for green \n",
      "infrastructure. The proceeds will be deployed in public sector projects \n",
      "which help in red ucing the carbon intensity of the economy.   \n",
      "GIFT -IFSC  \n",
      "104. World -class foreign universities and institutions will be allowed in \n",
      "the GIFT City to offer courses in Financial Management, FinTech, Science, \n",
      "Technology, Engineering and Mathematics free from domestic  regulations, \n",
      "except those by IFSCA to facilitate availability of high -end human resources \n",
      "for financial services and technology.\n",
      "\n",
      "31 \n",
      " \n",
      "  Annexure 2 \n",
      " \n",
      "Statement of Extra Budgetary Resources (EBRs) (Govt. fully serviced bonds, NSSF  loan and other resources) \n",
      "                                                                                                                                                   (In ` crores)  \n",
      "Part-A – EBRs  mobilised through issue of Govt. fully serviced bonds    \n",
      "Dem\n",
      "and \n",
      "No.  Name of the Ministry/Department \n",
      "and Name of the Scheme  2016 -17 2017 -18 2018 -19 2019 -20  2020 -21 2021 -22 2021 -22 2022 -23 \n",
      "Actuals  Actuals  Actuals  Actuals  Actuals  BE RE BE \n",
      "26 Department  of Higher Education      \n",
      " \n",
      " \n",
      " \n",
      " \n",
      " \n",
      " \n",
      " \n",
      " \n",
      " \n",
      " \n",
      " \n",
      " \n",
      " \n",
      "751.80  \n",
      " \n",
      " \n",
      " \n",
      " \n",
      " \n",
      " \n",
      " \n",
      " \n",
      " \n",
      " \n",
      " \n",
      " \n",
      " \n",
      " \n",
      " \n",
      " \n",
      " \n",
      " \n",
      " \n",
      " \n",
      " \n",
      " \n",
      " \n",
      " \n",
      " \n",
      " \n",
      " \n",
      " \n",
      " \n",
      " \n",
      " \n",
      " \n",
      "751.80   \n",
      " \n",
      " \n",
      " \n",
      " \n",
      " \n",
      " \n",
      " \n",
      " \n",
      " \n",
      " \n",
      " \n",
      " \n",
      " \n",
      " \n",
      " \n",
      " \n",
      " \n",
      " \n",
      " \n",
      " \n",
      "NIL  Revitalising Infrastructure and Systems \n",
      "in Education (RISE)  --- --- --- --- ---  \n",
      "46 Department of Health & Family \n",
      "Welfare       \n",
      "Pradhan  Mantri Swasthya Suraksha \n",
      "Yojana  --- --- --- --- ---\n",
      "\n",
      "32 \n",
      " \n",
      "Part-B – Financial support extended through loans from NSSF  \n",
      "(In ` crores)  \n",
      " \n",
      "Notes:  \n",
      " \n",
      "(i) Air India Asset Holding Limited (AIAHL) under M/o Civil Aviation was permitted to raise EBRs by issuing Govt. Fully \n",
      "Serviced Bonds of upto ` 7,000 crore in FY 2019 -20 to refinance AIs debt transferred to AIAHL.  \n",
      " \n",
      "(ii) M/o Railways was permitted to meet fund requirement of upto ` 10,200 crore ( ` 5,200 crore in FY 2018 -19 & `5,000 crore \n",
      "in FY 2019 -20) through borrowings for financing its National Proj ects. The repayment liability is being borne on General \n",
      "Revenues of Govt.  \n",
      " \n",
      "(iii) An amount of ` 80,000 crore in 2017 -18, ` 1,06,000 crore in 2018 -19 and `65,443 crore in 2019 -20 was infused for \n",
      "recapitalisation of Public Sector Banks (PSBs). For this purpose, a provision of `15,000 crore has been made in 2021 -22.   \n",
      " \n",
      "(iv) Statement of liability on annuity projects is given in Part -B of the Receipt Budget 2022 -23. Amount of unpaid annual liability. Don't go out of the context.</s>[INST] [INST] Answer the following question - How much is the endowment funds?[/INST]\u001b[0m\n",
      "\n",
      "\u001b[1m> Finished chain.\u001b[0m\n",
      "\n",
      "\u001b[1m> Finished chain.\u001b[0m\n"
     ]
    }
   ],
   "source": [
    "response = rag.invoke('How much is the endowment funds?')"
   ]
  },
  {
   "cell_type": "code",
   "execution_count": 25,
   "metadata": {},
   "outputs": [
    {
     "name": "stdout",
     "output_type": "stream",
     "text": [
      "The context does not provide information about the endowment funds, so I cannot answer this question from the context.\n"
     ]
    }
   ],
   "source": [
    "print(response['result'])"
   ]
  },
  {
   "cell_type": "code",
   "execution_count": 26,
   "metadata": {},
   "outputs": [
    {
     "name": "stdout",
     "output_type": "stream",
     "text": [
      "\n",
      "\n",
      "\u001b[1m> Entering new StuffDocumentsChain chain...\u001b[0m\n",
      "\n",
      "\n",
      "\u001b[1m> Entering new LLMChain chain...\u001b[0m\n",
      "Prompt after formatting:\n",
      "\u001b[32;1m\u001b[1;3m<s>[INST] Given the context - to steer a paradigm change.     \n",
      "69. A high -level committee of reputed urban planners, urban \n",
      "economists and institutions will be formed to make recommendations on \n",
      "urban sector policies, capacity building, planning, implementation and \n",
      "governance.  \n",
      "Urban Planning Support to States  \n",
      "70. For urban c apacity building, support will be provided to the states. \n",
      "Modernization of building byelaws, Town Planning Schemes (TPS), and \n",
      "Transit Oriented Development (TOD) will be implemented. This will \n",
      "facilitate reforms for people to live and work closer to mass tr ansit systems.\n",
      "\n",
      "the public resources.  \n",
      "Seamless Multimodal Movement of  Goods and People  \n",
      "19. The data exchange among all mode operators will be brought on \n",
      "Unified Logistics Interface Platform (ULIP), designed for Application \n",
      "Programming Interface (API). This will provide for efficient movement of \n",
      "goods through different modes, r educing logistics cost and time, assisting \n",
      "just-in-time inventory management, and in eliminating tedious \n",
      "documentation. Most importantly, this will provide real time information to \n",
      "all stakeholders, and improve international competitiveness. Open -source \n",
      "mobility stack, for organizing seamless travel of passengers will also be \n",
      "facilitated.  \n",
      "Multimodal Logistics Parks  \n",
      "20. Contracts for implementation of Multimodal Logistics Parks at four \n",
      "locations through PPP mode will be awarded in 2022 -23.  \n",
      "Railways  \n",
      "21. Railways will develop new products and efficient logistics services \n",
      "for small farmers and Small and Medium Enterprises, besides taking the\n",
      "\n",
      "Deterrence against tax-evasion:  \n",
      "136.  Presently, there is ambiguity regarding set off, of brought forward \n",
      "loss against undisclosed income detected in search operations. It has been \n",
      "observed that in many cases where undisclosed income or suppression of \n",
      "sales etc. is detected, payment of tax is avoided by setting off, of losses. In \n",
      "order to bring certainty and to increase deterrence among tax evaders, I \n",
      "propose to provide that no set off, of any loss shall be allowed against \n",
      "undisclosed income detected during search and survey operations. \n",
      "Rationalizing TDS Provisions   \n",
      "137.  It has been noticed that as a business promotion strategy, there is a \n",
      "tendency on businesses to pass on benefits to their agents. Such benefits \n",
      "are taxable in the hands of the agents. In order to track such transactions, I \n",
      "propose to provide for tax deduction by the person giving benefits, if the \n",
      "aggregate value of such benefits exceeds  ` 20,000 during the financial year.\n",
      "\n",
      "13 \n",
      " \n",
      " \n",
      " The Central Government’s financial support for mass transit projects and \n",
      "AMRUT scheme will be leveraged for formulation of action plans and their \n",
      "implementation for facilitating TOD and TPS by the states.   \n",
      "71. For developing India specific knowledge in urban planning and \n",
      "design, and to deliver certified training in these areas, up to five existing \n",
      "academic institutions in different regions will be designated as centres of \n",
      "excellence. These centres will be provid ed endowment funds of ` 250 crore \n",
      "each. In addition, AICTE will take the lead to improve syllabi, quality and \n",
      "access of urban planning courses in other institutions.  \n",
      "Clean & Sustainable Mobility  \n",
      "72. We will promote a shift to use of public transport in urban a reas. \n",
      "This will be complemented by clean tech and governance solutions, special \n",
      "mobility zones with zero fossil -fuel policy, and EV vehicles.  \n",
      "Battery Swapping Policy  \n",
      "73. Considering the constraint of space in urban areas for setting up. Don't go out of the context.</s>[INST] [INST] Answer the following question - What is TOD and TPS[/INST]\u001b[0m\n",
      "\n",
      "\u001b[1m> Finished chain.\u001b[0m\n",
      "\n",
      "\u001b[1m> Finished chain.\u001b[0m\n"
     ]
    }
   ],
   "source": [
    "response = rag.invoke('What is TOD and TPS')"
   ]
  },
  {
   "cell_type": "code",
   "execution_count": 27,
   "metadata": {},
   "outputs": [
    {
     "name": "stdout",
     "output_type": "stream",
     "text": [
      "Sure, here is the answer to the question - What is TOD and TPS?\n",
      "\n",
      "TOD (Transport of Goods and People) and TPS (Transport of People) are frameworks for developing coordinated and efficient transport systems for goods and people in urban areas. They facilitate the integration of different modes of transport, such as railways, buses, and pedestrians, to ensure a seamless and efficient transport system.\n"
     ]
    }
   ],
   "source": [
    "print(response['result'])"
   ]
  },
  {
   "cell_type": "code",
   "execution_count": 28,
   "metadata": {},
   "outputs": [
    {
     "name": "stdout",
     "output_type": "stream",
     "text": [
      "\n",
      "\n",
      "\u001b[1m> Entering new StuffDocumentsChain chain...\u001b[0m\n",
      "\n",
      "\n",
      "\u001b[1m> Entering new LLMChain chain...\u001b[0m\n",
      "Prompt after formatting:\n",
      "\u001b[32;1m\u001b[1;3m<s>[INST] Given the context - 15 \n",
      " \n",
      " \n",
      " 84. To enable affordable broadband and mobile service proliferation in \n",
      "rural and remote areas,  five per cent of annual collections under the \n",
      "Universal Service Obligation Fund will be allocated. This will promote R&D \n",
      "and commercialization of technologies and solutions.  \n",
      "85. Our vision is that all villages and their residents should have the \n",
      "same access to e -services, communication facilities, and digital resources as \n",
      "urban areas and their residents. The contracts for laying optical fibre in all \n",
      "villages, including remote area s, will be awarded under the Bharatnet \n",
      "project through PPP in 2022 -23. Completion is expected in 2025. Measures \n",
      "will be taken to enable better and more efficient use of the optical fibre.    \n",
      "Export Promotion  \n",
      "86. The Special Economic Zones Act will be replaced with a new \n",
      "legislation that will enable the states to become partners in ‘Development \n",
      "of Enterprise and Service Hubs’. This will cover all large existing and new\n",
      "\n",
      "offers immense potential to employ youth. An AVGC promotion task force \n",
      "with all stakeholders will be set -up to recomm end ways to realize this and \n",
      "build domestic capacity for serving our markets and the global demand.    \n",
      "Telecom Sector \n",
      "82. Telecommunication in general, and 5G technology in particular, can \n",
      "enable growth and offer job opportunities. Required spectrum auctions w ill \n",
      "be conducted in 2022 to facilitate rollout of 5G mobile services within 2022 -\n",
      "23 by private telecom providers.  \n",
      "83. A scheme for design -led manufacturing will be launched to build a \n",
      "strong ecosystem for 5G as part of the Production Linked Incentive Scheme.\n",
      "\n",
      "GOVERNMENT OF INDIA\n",
      "BUDGET 2022-2023\n",
      "SPEECH\n",
      "OF\n",
      "NIRMALA SITHARAMAN\n",
      "MINISTER OF FINANCE\n",
      "February 1,  2022\n",
      "\n",
      "GOVERNMENT OF INDIA\n",
      "BUDGET 2022-2023\n",
      "SPEECH\n",
      "OF\n",
      "NIRMALA SITHARAMAN\n",
      "MINISTER OF FINANCE\n",
      "February 1,  2022. Don't go out of the context.</s>[INST] [INST] Answer the following question - In which year spectrum auctions will be conducted?[/INST]\u001b[0m\n",
      "\n",
      "\u001b[1m> Finished chain.\u001b[0m\n",
      "\n",
      "\u001b[1m> Finished chain.\u001b[0m\n"
     ]
    }
   ],
   "source": [
    "response = rag.invoke('In which year spectrum auctions will be conducted?')"
   ]
  },
  {
   "cell_type": "code",
   "execution_count": 29,
   "metadata": {},
   "outputs": [
    {
     "name": "stdout",
     "output_type": "stream",
     "text": [
      "In 2022 spectrum auctions will be conducted. The text doesn't provide more details about the year.\n"
     ]
    }
   ],
   "source": [
    "print(response['result'])"
   ]
  },
  {
   "cell_type": "code",
   "execution_count": null,
   "metadata": {},
   "outputs": [],
   "source": []
  }
 ],
 "metadata": {
  "kernelspec": {
   "display_name": "ollama-rag",
   "language": "python",
   "name": "python3"
  },
  "language_info": {
   "codemirror_mode": {
    "name": "ipython",
    "version": 3
   },
   "file_extension": ".py",
   "mimetype": "text/x-python",
   "name": "python",
   "nbconvert_exporter": "python",
   "pygments_lexer": "ipython3",
   "version": "3.12.0"
  },
  "orig_nbformat": 4
 },
 "nbformat": 4,
 "nbformat_minor": 2
}
